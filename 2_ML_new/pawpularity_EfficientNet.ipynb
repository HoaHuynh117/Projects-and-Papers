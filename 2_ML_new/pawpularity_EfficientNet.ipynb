{
 "cells": [
  {
   "cell_type": "markdown",
   "id": "890723a2-3f78-4cf7-a92d-2ea0cf63ffaf",
   "metadata": {},
   "source": [
    "# Pawpularity Score: pretrained EfficientNet (NOT with \"imagenet\")"
   ]
  },
  {
   "cell_type": "code",
   "execution_count": 1,
   "id": "156e51f6-620a-47cb-ab29-aefe29b33915",
   "metadata": {},
   "outputs": [],
   "source": [
    "import os\n",
    "import random\n",
    "import math\n",
    "import sys\n",
    "\n",
    "import numpy as np # linear algebra\n",
    "import pandas as pd # data processing, CSV file I/O (e.g. pd.read_csv)\n",
    "#import lightgbm as lgb\n",
    "#from cuml.svm import SVR\n",
    "import tensorflow as tf\n",
    "from tensorflow.keras import Sequential, Model\n",
    "from tensorflow.keras.layers import Dense, Conv2D, Flatten, Dropout, Input, Concatenate, BatchNormalization\n",
    "from tensorflow.keras.callbacks import EarlyStopping, ReduceLROnPlateau\n",
    "from tensorflow.keras.optimizers.schedules import ExponentialDecay\n",
    "from PIL import Image\n",
    "from sklearn.model_selection import train_test_split\n",
    "import matplotlib.pyplot as plt"
   ]
  },
  {
   "cell_type": "markdown",
   "id": "25faf57d-8c90-460a-bc02-5dea1134af16",
   "metadata": {
    "jp-MarkdownHeadingCollapsed": true,
    "tags": []
   },
   "source": [
    "# Import & split data into train, validation and test set "
   ]
  },
  {
   "cell_type": "code",
   "execution_count": 2,
   "id": "bc98f66a-f6d6-4f86-9d5e-de72cbe63bfb",
   "metadata": {},
   "outputs": [],
   "source": [
    "# Constants\n",
    "AUTOTUNE = tf.data.experimental.AUTOTUNE  \n",
    "img_size = 224\n",
    "channels = 3\n",
    "Batch_size = 16\n",
    "\n",
    "# Directory for dataset\n",
    "train_dir = \"/Users/hoahuynh/Downloads/MA_1.Semester/3-ML/Praktikum/input/train/\"\n",
    "test_dir = \"/Users/hoahuynh/Downloads/MA_1.Semester/3-ML/Praktikum/input/test/\"\n",
    "\n",
    "def seed_everything():\n",
    "    os.environ['PYTHONHASHSEED'] = str(123)\n",
    "    np.random.seed(123)\n",
    "    random.seed(123)\n",
    "    tf.random.set_seed(123)\n",
    "    os.environ[\"TF_CPP_MIN_LOG_LEVEL\"] = '2'\n",
    "    os.environ['PYTHONHASHSEED'] = str(123)\n",
    "\n",
    "seed_everything()"
   ]
  },
  {
   "cell_type": "code",
   "execution_count": 3,
   "id": "8af880b1-a1dc-418a-98eb-51ebb8266c0e",
   "metadata": {},
   "outputs": [],
   "source": [
    "# Reading dataset train, test in df and df_test respectively\n",
    "df = pd.read_csv(\"/Users/hoahuynh/Downloads/MA_1.Semester/3-ML/Praktikum/input/train.csv\")\n",
    "df_test = pd.read_csv(\"/Users/hoahuynh/Downloads/MA_1.Semester/3-ML/Praktikum/input/test.csv\")\n",
    "Id = df_test[\"Id\"].copy()\n",
    "\n",
    "\n",
    "# Converting Id column for taking images\n",
    "df[\"Id\"] = df[\"Id\"].apply(lambda x : train_dir + x + \".jpg\")\n",
    "df_test[\"Id\"] = df_test[\"Id\"].apply(lambda x : test_dir + x + \".jpg\")"
   ]
  },
  {
   "cell_type": "code",
   "execution_count": 4,
   "id": "2905e6b0-0a74-45e8-82e7-7e0bdc385064",
   "metadata": {},
   "outputs": [],
   "source": [
    "# Defining functions for reading and augmentation of images\n",
    "# A seperate function for creating dataset\n",
    "\n",
    "# Augmenting the image\n",
    "def image_preprocess(is_labelled):  \n",
    "    def augment(image):\n",
    "        image = tf.image.random_flip_left_right(image)\n",
    "        image = tf.image.random_flip_up_down(image)\n",
    "        image = tf.image.random_contrast(image, 0.95, 1.05)\n",
    "        return image\n",
    "    \n",
    "    def can_be_augmented(img, label):\n",
    "        return augment(img), label\n",
    "    \n",
    "#   If record has label both image and lable will be returned\n",
    "    return can_be_augmented if is_labelled else augment\n",
    "\n",
    "\n",
    "\n",
    "# Reading and rescaling images\n",
    "def image_read(is_labelled):\n",
    "    def decode(path):\n",
    "        image = tf.io.read_file(path)\n",
    "        image = tf.image.decode_jpeg(image, channels=channels)\n",
    "        image = tf.cast(image, tf.float32)\n",
    "        image = tf.image.resize(image, (img_size, img_size))\n",
    "        image = tf.keras.applications.efficientnet.preprocess_input(image)\n",
    "        return image\n",
    "    \n",
    "    def can_be_decoded(path, label):\n",
    "        return decode(path), label\n",
    "    \n",
    "#   If record has label both image and lable will be returned\n",
    "    return can_be_decoded if is_labelled else decode\n",
    "\n",
    "\n",
    "# Creating the dataset\n",
    "def create_dataset(df, df_meta, batch_size, is_labelled = False, augment = False, shuffle = False):\n",
    "    image_read_fn = image_read(is_labelled)\n",
    "    image_preprocess_fn = image_preprocess(is_labelled)\n",
    "    \n",
    "    if is_labelled:\n",
    "        dataset = tf.data.Dataset.from_tensor_slices((df[\"Id\"].values, df_meta.values))\n",
    "    else:\n",
    "        dataset = tf.data.Dataset.from_tensor_slices((df[\"Id\"].values))\n",
    "    \n",
    "    dataset = dataset.map(image_read_fn, num_parallel_calls=AUTOTUNE)\n",
    "    dataset = dataset.map(image_preprocess_fn, num_parallel_calls=AUTOTUNE) if augment else dataset\n",
    "#     dataset = dataset.shuffle(1024, reshuffle_each_iteration=True) if shuffle else dataset\n",
    "#     dataset = dataset.batch(batch_size)\n",
    "    dataset = dataset.prefetch(AUTOTUNE)\n",
    "    return dataset\n",
    "\n",
    "def create_metadata_dataset(df, batch_size):\n",
    "    dataset = tf.data.Dataset.from_tensor_slices((df[\"Pawpularity\"].values))\n",
    "#     dataset = dataset.shuffle(1024, reshuffle_each_iteration=True)\n",
    "#     dataset = dataset.batch(batch_size)\n",
    "    dataset = dataset.prefetch(AUTOTUNE)\n",
    "    return dataset \n",
    "\n",
    "def create_metadata_dataset_test(df, batch_size):\n",
    "    dataset = tf.data.Dataset.from_tensor_slices((df.values))\n",
    "#     dataset = dataset.shuffle(1024, reshuffle_each_iteration=True)\n",
    "#     dataset = dataset.batch(batch_size)\n",
    "    dataset = dataset.prefetch(AUTOTUNE)\n",
    "    return dataset\n",
    "\n",
    "def create_metadata(df, lab,batch_size):\n",
    "    dataset = tf.data.Dataset.from_tensor_slices((df.values, lab['Pawpularity'].values))\n",
    "    dataset = dataset.batch(batch_size)\n",
    "    dataset = dataset.prefetch(AUTOTUNE)\n",
    "    return dataset\n",
    "\n",
    "def create_metadata_test(df,batch_size):\n",
    "    dataset = tf.data.Dataset.from_tensor_slices((df.values))\n",
    "    dataset = dataset.batch(batch_size)\n",
    "    dataset = dataset.prefetch(AUTOTUNE)\n",
    "    return dataset"
   ]
  },
  {
   "cell_type": "code",
   "execution_count": 5,
   "id": "6cf92091-1c15-471c-bcf8-80acaed79d55",
   "metadata": {},
   "outputs": [
    {
     "name": "stdout",
     "output_type": "stream",
     "text": [
      "Metal device set to: Apple M1 Pro\n"
     ]
    }
   ],
   "source": [
    "# Defining train, validation and test set \n",
    "trn = df.iloc[:9000]\n",
    "val = df.iloc[9001:]\n",
    "tes = np.zeros((df_test.shape[0],),dtype='float32')\n",
    "tes = pd.DataFrame(tes)\n",
    "\n",
    "xtrain_att_trn = trn.drop([\"Id\", \"Pawpularity\"],axis=1)\n",
    "xtrain_att_val = val.drop([\"Id\", \"Pawpularity\"],axis=1)\n",
    "test_att = df_test.drop([\"Id\"],axis=1)\n",
    "xtrain_att_trn.astype('float32')\n",
    "xtrain_att_val.astype('float32')\n",
    "test_att.astype('float32')\n",
    "train = create_dataset(trn, xtrain_att_trn,Batch_size, is_labelled = True, augment = False, shuffle = False)\n",
    "validation = create_dataset(val, xtrain_att_val,Batch_size, is_labelled = True, augment = False, shuffle = False)\n",
    "test = create_dataset(df_test, test_att,Batch_size, is_labelled = True, augment = False, shuffle=False)\n",
    "train_att = create_metadata(xtrain_att_trn, trn,Batch_size)\n",
    "test_att = create_metadata_test(test_att,Batch_size)\n",
    "\n",
    "# Defining xtrain_att, ytrain_att for MLP\n",
    "\n",
    "ytrain_trn = create_metadata_dataset(trn, Batch_size)\n",
    "ytrain_val = create_metadata_dataset(val, Batch_size)\n",
    "test_val = create_metadata_dataset_test(tes, Batch_size)\n",
    "\n",
    "train = tf.data.Dataset.zip((train, ytrain_trn)).batch(Batch_size)\n",
    "validation = tf.data.Dataset.zip((validation, ytrain_val)).batch(Batch_size)\n",
    "test = tf.data.Dataset.zip((test, test_val)).batch(Batch_size)"
   ]
  },
  {
   "cell_type": "markdown",
   "id": "3e485f48-92c4-45ba-b232-772a2e1e2ba4",
   "metadata": {
    "jp-MarkdownHeadingCollapsed": true,
    "tags": []
   },
   "source": [
    "# Loading (local) pretrained EfficientNet"
   ]
  },
  {
   "cell_type": "code",
   "execution_count": 6,
   "id": "8f876280-90cb-4039-8263-1f6dd2d04cb9",
   "metadata": {},
   "outputs": [
    {
     "name": "stdout",
     "output_type": "stream",
     "text": [
      "WARNING:tensorflow:No training configuration found in the save file, so the model was *not* compiled. Compile it manually.\n"
     ]
    }
   ],
   "source": [
    "img_mod = \"/Users/hoahuynh/Downloads/MA_1.Semester/3-ML/Praktikum/EfficientNetB0.h5\"\n",
    "efnet = tf.keras.models.load_model(img_mod)\n",
    "efnet.trainable = False"
   ]
  },
  {
   "cell_type": "code",
   "execution_count": 7,
   "id": "b1717df6-cde8-427b-bac7-b3f57ea712f3",
   "metadata": {},
   "outputs": [],
   "source": [
    "# Using pretrained EfficientNet with image size of (224,224,3)\n",
    "# Using relu activation function because it a regression problem\n",
    "\n",
    "inp1 = Input(shape=(img_size, img_size, channels))\n",
    "x = efnet(inp1)\n",
    "x = BatchNormalization()(x)\n",
    "x = Dropout(0.2)(x)\n",
    "\n",
    "inp2 = Input(shape=(12))\n",
    "con = Concatenate()([x, inp2])\n",
    "x = Dense(units = 64, activation=\"relu\")(con)\n",
    "out = Dense(units = 1)(x)\n",
    "\n",
    "model = Model([inp1, inp2], out)"
   ]
  },
  {
   "cell_type": "code",
   "execution_count": 8,
   "id": "426af826-c194-4258-bda5-cd17aa704aec",
   "metadata": {},
   "outputs": [],
   "source": [
    "# Early stopping helps as it stops training if val_loss(validation score) does not decrease.\n",
    "early_stopping = EarlyStopping(patience = 10,restore_best_weights=True)\n",
    "\n",
    "\n",
    "lr_schedule = ExponentialDecay(\n",
    "    initial_learning_rate=0.1, #1e-3,\n",
    "    decay_steps=100000, decay_rate=0.96,\n",
    "    staircase=True)"
   ]
  },
  {
   "cell_type": "markdown",
   "id": "56b29885-2897-4dd2-a745-cacc912b6784",
   "metadata": {
    "jp-MarkdownHeadingCollapsed": true,
    "tags": []
   },
   "source": [
    "# Compiling and Fitting the model"
   ]
  },
  {
   "cell_type": "code",
   "execution_count": 9,
   "id": "c1c1b0c8-2d5c-46c1-b765-caf6e8fecf2c",
   "metadata": {},
   "outputs": [],
   "source": [
    "model.compile(loss=\"mse\", \n",
    "              optimizer = tf.keras.optimizers.Adam(learning_rate = lr_schedule), \n",
    "              metrics=[tf.keras.metrics.RootMeanSquaredError()])"
   ]
  },
  {
   "cell_type": "code",
   "execution_count": 10,
   "id": "42bb99ab-f63e-43b8-84c2-d56804ec3d3d",
   "metadata": {},
   "outputs": [
    {
     "name": "stdout",
     "output_type": "stream",
     "text": [
      "Epoch 1/50\n",
      "563/563 [==============================] - 49s 72ms/step - loss: 493.6566 - root_mean_squared_error: 22.2184 - val_loss: 349.3980 - val_root_mean_squared_error: 18.6922\n",
      "Epoch 2/50\n",
      "563/563 [==============================] - 36s 63ms/step - loss: 436.2912 - root_mean_squared_error: 20.8876 - val_loss: 370.6093 - val_root_mean_squared_error: 19.2512\n",
      "Epoch 3/50\n",
      "563/563 [==============================] - 35s 63ms/step - loss: 430.4643 - root_mean_squared_error: 20.7476 - val_loss: 377.6157 - val_root_mean_squared_error: 19.4323\n",
      "Epoch 4/50\n",
      "563/563 [==============================] - 36s 63ms/step - loss: 418.7774 - root_mean_squared_error: 20.4641 - val_loss: 403.6403 - val_root_mean_squared_error: 20.0908\n",
      "Epoch 5/50\n",
      "563/563 [==============================] - 36s 64ms/step - loss: 426.3382 - root_mean_squared_error: 20.6480 - val_loss: 403.7392 - val_root_mean_squared_error: 20.0933\n",
      "Epoch 6/50\n",
      "563/563 [==============================] - 36s 64ms/step - loss: 426.3650 - root_mean_squared_error: 20.6486 - val_loss: 403.7279 - val_root_mean_squared_error: 20.0930\n",
      "Epoch 7/50\n",
      "563/563 [==============================] - 37s 65ms/step - loss: 426.3853 - root_mean_squared_error: 20.6491 - val_loss: 403.7206 - val_root_mean_squared_error: 20.0928\n",
      "Epoch 8/50\n",
      "563/563 [==============================] - 36s 64ms/step - loss: 426.3986 - root_mean_squared_error: 20.6494 - val_loss: 403.7163 - val_root_mean_squared_error: 20.0927\n",
      "Epoch 9/50\n",
      "563/563 [==============================] - 37s 65ms/step - loss: 426.4068 - root_mean_squared_error: 20.6496 - val_loss: 403.7137 - val_root_mean_squared_error: 20.0926\n",
      "Epoch 10/50\n",
      "563/563 [==============================] - 36s 65ms/step - loss: 426.4117 - root_mean_squared_error: 20.6497 - val_loss: 403.7121 - val_root_mean_squared_error: 20.0926\n",
      "Epoch 11/50\n",
      "563/563 [==============================] - 37s 66ms/step - loss: 426.4146 - root_mean_squared_error: 20.6498 - val_loss: 403.7113 - val_root_mean_squared_error: 20.0926\n"
     ]
    }
   ],
   "source": [
    "predictor = model.fit(train,\n",
    "                      epochs=50, \n",
    "                      validation_data = validation,\n",
    "                      callbacks = [early_stopping])"
   ]
  },
  {
   "cell_type": "code",
   "execution_count": 11,
   "id": "cb703e17-383b-4dd0-a5c2-dd832656b5e2",
   "metadata": {},
   "outputs": [
    {
     "data": {
      "text/plain": [
       "<matplotlib.legend.Legend at 0x2cee96520>"
      ]
     },
     "execution_count": 11,
     "metadata": {},
     "output_type": "execute_result"
    },
    {
     "data": {
      "image/png": "[encoded data removed]",
      "text/plain": [
       "<Figure size 640x480 with 1 Axes>"
      ]
     },
     "metadata": {},
     "output_type": "display_data"
    }
   ],
   "source": [
    "plt.figure()\n",
    "plt.plot(predictor.history[\"root_mean_squared_error\"], label=\"train_rmse\")\n",
    "plt.plot(predictor.history[\"val_root_mean_squared_error\"], label=\"val_rmse\")\n",
    "#plt.xticks(range(0,60))\n",
    "plt.title(\"RMSE train/validation by Epoch\")\n",
    "plt.xlabel(\"Epoch #\")\n",
    "plt.ylabel(\"RMSE\")\n",
    "plt.legend(loc=\"upper right\")"
   ]
  },
  {
   "cell_type": "markdown",
   "id": "3c35f9fd-f2ea-4e90-8a32-e7749ffebd50",
   "metadata": {
    "tags": []
   },
   "source": [
    "# Prediction"
   ]
  },
  {
   "cell_type": "code",
   "execution_count": 12,
   "id": "dc0f7cf9-6e15-4339-97a6-46f00c776fc2",
   "metadata": {},
   "outputs": [
    {
     "name": "stdout",
     "output_type": "stream",
     "text": [
      "1/1 [==============================] - 2s 2s/step\n"
     ]
    }
   ],
   "source": [
    "# Making prediction on test set\n",
    "pred1 = model.predict(test)"
   ]
  },
  {
   "cell_type": "code",
   "execution_count": 13,
   "id": "c0589320-6cf0-4b5c-a8c3-946393781235",
   "metadata": {},
   "outputs": [
    {
     "data": {
      "text/plain": [
       "array([[43.865547],\n",
       "       [43.88186 ],\n",
       "       [43.898792],\n",
       "       [43.575573],\n",
       "       [43.336697],\n",
       "       [44.79013 ],\n",
       "       [42.64801 ],\n",
       "       [42.682743]], dtype=float32)"
      ]
     },
     "execution_count": 13,
     "metadata": {},
     "output_type": "execute_result"
    }
   ],
   "source": [
    "pred1"
   ]
  },
  {
   "cell_type": "code",
   "execution_count": null,
   "id": "fd355abc-af68-487e-bc5e-589d1b10011e",
   "metadata": {},
   "outputs": [],
   "source": []
  }
 ],
 "metadata": {
  "kernelspec": {
   "display_name": "Python 3 (ipykernel)",
   "language": "python",
   "name": "python3"
  },
  "language_info": {
   "codemirror_mode": {
    "name": "ipython",
    "version": 3
   },
   "file_extension": ".py",
   "mimetype": "text/x-python",
   "name": "python",
   "nbconvert_exporter": "python",
   "pygments_lexer": "ipython3",
   "version": "3.9.13"
  }
 },
 "nbformat": 4,
 "nbformat_minor": 5
}
