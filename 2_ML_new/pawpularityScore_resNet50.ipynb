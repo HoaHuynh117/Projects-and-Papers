{
 "cells": [
  {
   "cell_type": "markdown",
   "metadata": {},
   "source": [
    "Quelle: https://www.kaggle.com/code/pratikskarnik/resnet-regressor"
   ]
  },
  {
   "cell_type": "markdown",
   "metadata": {},
   "source": [
    "# Pawpularity Score: pretrained ResNet50 with \"imagenet\""
   ]
  },
  {
   "cell_type": "code",
   "execution_count": 1,
   "metadata": {},
   "outputs": [],
   "source": [
    "import numpy as np\n",
    "import pandas as pd\n",
    "import os\n",
    "import cv2\n",
    "import missingno as msno\n",
    "from pathlib import Path\n",
    "from tqdm import tqdm\n",
    "import wandb\n",
    "import seaborn as sns\n",
    "import matplotlib.pyplot as plt\n",
    "import missingno as msno\n",
    "from sklearn.model_selection import train_test_split\n",
    "from sklearn.ensemble import RandomForestRegressor\n",
    "from sklearn.metrics import mean_squared_error"
   ]
  },
  {
   "cell_type": "markdown",
   "metadata": {
    "tags": []
   },
   "source": [
    "## Import Data"
   ]
  },
  {
   "cell_type": "code",
   "execution_count": 2,
   "metadata": {},
   "outputs": [],
   "source": [
    "# for dirname, _, filenames in os.walk('../input'):\n",
    "#     for filename in filenames:\n",
    "#         print(os.path.join(dirname, filename))\n",
    "train=pd.read_csv('/Users/hoahuynh/Downloads/MA_1.Semester/3-ML/Praktikum/input/train.csv') \n",
    "test=pd.read_csv('/Users/hoahuynh/Downloads/MA_1.Semester/3-ML/Praktikum/input/test.csv')   "
   ]
  },
  {
   "cell_type": "code",
   "execution_count": 3,
   "metadata": {},
   "outputs": [],
   "source": [
    "from tensorflow import keras\n",
    "from tensorflow.keras import layers\n",
    "from sklearn.model_selection import KFold\n",
    "import tensorflow as tf"
   ]
  },
  {
   "cell_type": "code",
   "execution_count": 4,
   "metadata": {},
   "outputs": [],
   "source": [
    "train[\"file_path\"] = train[\"Id\"].apply(lambda x: \"/Users/hoahuynh/Downloads/MA_1.Semester/3-ML/Praktikum/input/train/\" + x + \".jpg\")\n",
    "test[\"file_path\"] = test[\"Id\"].apply(lambda x: \"/Users/hoahuynh/Downloads/MA_1.Semester/3-ML/Praktikum/input/test/\" + x + \".jpg\")"
   ]
  },
  {
   "cell_type": "code",
   "execution_count": 5,
   "metadata": {},
   "outputs": [
    {
     "data": {
      "text/html": [
       "<div>\n",
       "<style scoped>\n",
       "    .dataframe tbody tr th:only-of-type {\n",
       "        vertical-align: middle;\n",
       "    }\n",
       "\n",
       "    .dataframe tbody tr th {\n",
       "        vertical-align: top;\n",
       "    }\n",
       "\n",
       "    .dataframe thead th {\n",
       "        text-align: right;\n",
       "    }\n",
       "</style>\n",
       "<table border=\"1\" class=\"dataframe\">\n",
       "  <thead>\n",
       "    <tr style=\"text-align: right;\">\n",
       "      <th></th>\n",
       "      <th>Id</th>\n",
       "      <th>Subject Focus</th>\n",
       "      <th>Eyes</th>\n",
       "      <th>Face</th>\n",
       "      <th>Near</th>\n",
       "      <th>Action</th>\n",
       "      <th>Accessory</th>\n",
       "      <th>Group</th>\n",
       "      <th>Collage</th>\n",
       "      <th>Human</th>\n",
       "      <th>Occlusion</th>\n",
       "      <th>Info</th>\n",
       "      <th>Blur</th>\n",
       "      <th>Pawpularity</th>\n",
       "      <th>file_path</th>\n",
       "    </tr>\n",
       "  </thead>\n",
       "  <tbody>\n",
       "    <tr>\n",
       "      <th>0</th>\n",
       "      <td>0007de18844b0dbbb5e1f607da0606e0</td>\n",
       "      <td>0</td>\n",
       "      <td>1</td>\n",
       "      <td>1</td>\n",
       "      <td>1</td>\n",
       "      <td>0</td>\n",
       "      <td>0</td>\n",
       "      <td>1</td>\n",
       "      <td>0</td>\n",
       "      <td>0</td>\n",
       "      <td>0</td>\n",
       "      <td>0</td>\n",
       "      <td>0</td>\n",
       "      <td>63</td>\n",
       "      <td>/Users/hoahuynh/Downloads/MA_1.Semester/3-ML/P...</td>\n",
       "    </tr>\n",
       "    <tr>\n",
       "      <th>1</th>\n",
       "      <td>0009c66b9439883ba2750fb825e1d7db</td>\n",
       "      <td>0</td>\n",
       "      <td>1</td>\n",
       "      <td>1</td>\n",
       "      <td>0</td>\n",
       "      <td>0</td>\n",
       "      <td>0</td>\n",
       "      <td>0</td>\n",
       "      <td>0</td>\n",
       "      <td>0</td>\n",
       "      <td>0</td>\n",
       "      <td>0</td>\n",
       "      <td>0</td>\n",
       "      <td>42</td>\n",
       "      <td>/Users/hoahuynh/Downloads/MA_1.Semester/3-ML/P...</td>\n",
       "    </tr>\n",
       "    <tr>\n",
       "      <th>2</th>\n",
       "      <td>0013fd999caf9a3efe1352ca1b0d937e</td>\n",
       "      <td>0</td>\n",
       "      <td>1</td>\n",
       "      <td>1</td>\n",
       "      <td>1</td>\n",
       "      <td>0</td>\n",
       "      <td>0</td>\n",
       "      <td>0</td>\n",
       "      <td>0</td>\n",
       "      <td>1</td>\n",
       "      <td>1</td>\n",
       "      <td>0</td>\n",
       "      <td>0</td>\n",
       "      <td>28</td>\n",
       "      <td>/Users/hoahuynh/Downloads/MA_1.Semester/3-ML/P...</td>\n",
       "    </tr>\n",
       "    <tr>\n",
       "      <th>3</th>\n",
       "      <td>0018df346ac9c1d8413cfcc888ca8246</td>\n",
       "      <td>0</td>\n",
       "      <td>1</td>\n",
       "      <td>1</td>\n",
       "      <td>1</td>\n",
       "      <td>0</td>\n",
       "      <td>0</td>\n",
       "      <td>0</td>\n",
       "      <td>0</td>\n",
       "      <td>0</td>\n",
       "      <td>0</td>\n",
       "      <td>0</td>\n",
       "      <td>0</td>\n",
       "      <td>15</td>\n",
       "      <td>/Users/hoahuynh/Downloads/MA_1.Semester/3-ML/P...</td>\n",
       "    </tr>\n",
       "    <tr>\n",
       "      <th>4</th>\n",
       "      <td>001dc955e10590d3ca4673f034feeef2</td>\n",
       "      <td>0</td>\n",
       "      <td>0</td>\n",
       "      <td>0</td>\n",
       "      <td>1</td>\n",
       "      <td>0</td>\n",
       "      <td>0</td>\n",
       "      <td>1</td>\n",
       "      <td>0</td>\n",
       "      <td>0</td>\n",
       "      <td>0</td>\n",
       "      <td>0</td>\n",
       "      <td>0</td>\n",
       "      <td>72</td>\n",
       "      <td>/Users/hoahuynh/Downloads/MA_1.Semester/3-ML/P...</td>\n",
       "    </tr>\n",
       "    <tr>\n",
       "      <th>...</th>\n",
       "      <td>...</td>\n",
       "      <td>...</td>\n",
       "      <td>...</td>\n",
       "      <td>...</td>\n",
       "      <td>...</td>\n",
       "      <td>...</td>\n",
       "      <td>...</td>\n",
       "      <td>...</td>\n",
       "      <td>...</td>\n",
       "      <td>...</td>\n",
       "      <td>...</td>\n",
       "      <td>...</td>\n",
       "      <td>...</td>\n",
       "      <td>...</td>\n",
       "      <td>...</td>\n",
       "    </tr>\n",
       "    <tr>\n",
       "      <th>9907</th>\n",
       "      <td>ffbfa0383c34dc513c95560d6e1fdb57</td>\n",
       "      <td>0</td>\n",
       "      <td>0</td>\n",
       "      <td>0</td>\n",
       "      <td>1</td>\n",
       "      <td>0</td>\n",
       "      <td>0</td>\n",
       "      <td>0</td>\n",
       "      <td>0</td>\n",
       "      <td>0</td>\n",
       "      <td>0</td>\n",
       "      <td>0</td>\n",
       "      <td>1</td>\n",
       "      <td>15</td>\n",
       "      <td>/Users/hoahuynh/Downloads/MA_1.Semester/3-ML/P...</td>\n",
       "    </tr>\n",
       "    <tr>\n",
       "      <th>9908</th>\n",
       "      <td>ffcc8532d76436fc79e50eb2e5238e45</td>\n",
       "      <td>0</td>\n",
       "      <td>1</td>\n",
       "      <td>1</td>\n",
       "      <td>1</td>\n",
       "      <td>0</td>\n",
       "      <td>0</td>\n",
       "      <td>0</td>\n",
       "      <td>0</td>\n",
       "      <td>0</td>\n",
       "      <td>0</td>\n",
       "      <td>0</td>\n",
       "      <td>0</td>\n",
       "      <td>70</td>\n",
       "      <td>/Users/hoahuynh/Downloads/MA_1.Semester/3-ML/P...</td>\n",
       "    </tr>\n",
       "    <tr>\n",
       "      <th>9909</th>\n",
       "      <td>ffdf2e8673a1da6fb80342fa3b119a20</td>\n",
       "      <td>0</td>\n",
       "      <td>1</td>\n",
       "      <td>1</td>\n",
       "      <td>1</td>\n",
       "      <td>0</td>\n",
       "      <td>0</td>\n",
       "      <td>0</td>\n",
       "      <td>0</td>\n",
       "      <td>1</td>\n",
       "      <td>1</td>\n",
       "      <td>0</td>\n",
       "      <td>0</td>\n",
       "      <td>20</td>\n",
       "      <td>/Users/hoahuynh/Downloads/MA_1.Semester/3-ML/P...</td>\n",
       "    </tr>\n",
       "    <tr>\n",
       "      <th>9910</th>\n",
       "      <td>fff19e2ce11718548fa1c5d039a5192a</td>\n",
       "      <td>0</td>\n",
       "      <td>1</td>\n",
       "      <td>1</td>\n",
       "      <td>1</td>\n",
       "      <td>0</td>\n",
       "      <td>0</td>\n",
       "      <td>0</td>\n",
       "      <td>0</td>\n",
       "      <td>1</td>\n",
       "      <td>0</td>\n",
       "      <td>0</td>\n",
       "      <td>0</td>\n",
       "      <td>20</td>\n",
       "      <td>/Users/hoahuynh/Downloads/MA_1.Semester/3-ML/P...</td>\n",
       "    </tr>\n",
       "    <tr>\n",
       "      <th>9911</th>\n",
       "      <td>fff8e47c766799c9e12f3cb3d66ad228</td>\n",
       "      <td>0</td>\n",
       "      <td>1</td>\n",
       "      <td>1</td>\n",
       "      <td>1</td>\n",
       "      <td>0</td>\n",
       "      <td>0</td>\n",
       "      <td>0</td>\n",
       "      <td>0</td>\n",
       "      <td>0</td>\n",
       "      <td>0</td>\n",
       "      <td>0</td>\n",
       "      <td>0</td>\n",
       "      <td>30</td>\n",
       "      <td>/Users/hoahuynh/Downloads/MA_1.Semester/3-ML/P...</td>\n",
       "    </tr>\n",
       "  </tbody>\n",
       "</table>\n",
       "<p>9912 rows × 15 columns</p>\n",
       "</div>"
      ],
      "text/plain": [
       "                                    Id  Subject Focus  Eyes  Face  Near  \\\n",
       "0     0007de18844b0dbbb5e1f607da0606e0              0     1     1     1   \n",
       "1     0009c66b9439883ba2750fb825e1d7db              0     1     1     0   \n",
       "2     0013fd999caf9a3efe1352ca1b0d937e              0     1     1     1   \n",
       "3     0018df346ac9c1d8413cfcc888ca8246              0     1     1     1   \n",
       "4     001dc955e10590d3ca4673f034feeef2              0     0     0     1   \n",
       "...                                ...            ...   ...   ...   ...   \n",
       "9907  ffbfa0383c34dc513c95560d6e1fdb57              0     0     0     1   \n",
       "9908  ffcc8532d76436fc79e50eb2e5238e45              0     1     1     1   \n",
       "9909  ffdf2e8673a1da6fb80342fa3b119a20              0     1     1     1   \n",
       "9910  fff19e2ce11718548fa1c5d039a5192a              0     1     1     1   \n",
       "9911  fff8e47c766799c9e12f3cb3d66ad228              0     1     1     1   \n",
       "\n",
       "      Action  Accessory  Group  Collage  Human  Occlusion  Info  Blur  \\\n",
       "0          0          0      1        0      0          0     0     0   \n",
       "1          0          0      0        0      0          0     0     0   \n",
       "2          0          0      0        0      1          1     0     0   \n",
       "3          0          0      0        0      0          0     0     0   \n",
       "4          0          0      1        0      0          0     0     0   \n",
       "...      ...        ...    ...      ...    ...        ...   ...   ...   \n",
       "9907       0          0      0        0      0          0     0     1   \n",
       "9908       0          0      0        0      0          0     0     0   \n",
       "9909       0          0      0        0      1          1     0     0   \n",
       "9910       0          0      0        0      1          0     0     0   \n",
       "9911       0          0      0        0      0          0     0     0   \n",
       "\n",
       "      Pawpularity                                          file_path  \n",
       "0              63  /Users/hoahuynh/Downloads/MA_1.Semester/3-ML/P...  \n",
       "1              42  /Users/hoahuynh/Downloads/MA_1.Semester/3-ML/P...  \n",
       "2              28  /Users/hoahuynh/Downloads/MA_1.Semester/3-ML/P...  \n",
       "3              15  /Users/hoahuynh/Downloads/MA_1.Semester/3-ML/P...  \n",
       "4              72  /Users/hoahuynh/Downloads/MA_1.Semester/3-ML/P...  \n",
       "...           ...                                                ...  \n",
       "9907           15  /Users/hoahuynh/Downloads/MA_1.Semester/3-ML/P...  \n",
       "9908           70  /Users/hoahuynh/Downloads/MA_1.Semester/3-ML/P...  \n",
       "9909           20  /Users/hoahuynh/Downloads/MA_1.Semester/3-ML/P...  \n",
       "9910           20  /Users/hoahuynh/Downloads/MA_1.Semester/3-ML/P...  \n",
       "9911           30  /Users/hoahuynh/Downloads/MA_1.Semester/3-ML/P...  \n",
       "\n",
       "[9912 rows x 15 columns]"
      ]
     },
     "execution_count": 5,
     "metadata": {},
     "output_type": "execute_result"
    }
   ],
   "source": [
    "train"
   ]
  },
  {
   "cell_type": "markdown",
   "metadata": {
    "jp-MarkdownHeadingCollapsed": true,
    "tags": []
   },
   "source": [
    "## Preprocess Data"
   ]
  },
  {
   "cell_type": "code",
   "execution_count": 6,
   "metadata": {},
   "outputs": [
    {
     "name": "stdout",
     "output_type": "stream",
     "text": [
      "Metal device set to: Apple M1 Pro\n"
     ]
    },
    {
     "name": "stderr",
     "output_type": "stream",
     "text": [
      "2022-12-19 20:50:39.042882: I tensorflow/core/common_runtime/pluggable_device/pluggable_device_factory.cc:306] Could not identify NUMA node of platform GPU ID 0, defaulting to 0. Your kernel may not have been built with NUMA support.\n",
      "2022-12-19 20:50:39.043036: I tensorflow/core/common_runtime/pluggable_device/pluggable_device_factory.cc:272] Created TensorFlow device (/job:localhost/replica:0/task:0/device:GPU:0 with 0 MB memory) -> physical PluggableDevice (device: 0, name: METAL, pci bus id: <undefined>)\n"
     ]
    }
   ],
   "source": [
    "image_size = 128\n",
    "def preprocess(image_url):\n",
    "    image_string = tf.io.read_file(image_url)\n",
    "    image = tf.image.decode_jpeg(image_string, channels=3)\n",
    "    image = tf.cast(image, tf.float32) / 255.0\n",
    "    image = tf.image.central_crop(image, 1.0)\n",
    "    image = tf.image.resize(image, (image_size, image_size))\n",
    "    return image\n",
    "x_train=[]\n",
    "for i in train['file_path']:\n",
    "    x1=preprocess(i)\n",
    "    x_train.append(x1)"
   ]
  },
  {
   "cell_type": "code",
   "execution_count": 7,
   "metadata": {},
   "outputs": [
    {
     "data": {
      "text/plain": [
       "<tf.Tensor: shape=(128, 128, 3), dtype=float32, numpy=\n",
       "array([[[0.4715907 , 0.45982596, 0.50296324],\n",
       "        [0.41024145, 0.39847675, 0.441614  ],\n",
       "        [0.4042202 , 0.3924555 , 0.43559274],\n",
       "        ...,\n",
       "        [0.70974016, 0.7188088 , 0.7597402 ],\n",
       "        [0.7086278 , 0.7216594 , 0.75368035],\n",
       "        [0.69903743, 0.71080214, 0.74119425]],\n",
       "\n",
       "       [[0.70354825, 0.70305806, 0.7425188 ],\n",
       "        [0.67488223, 0.67439204, 0.7138528 ],\n",
       "        [0.65424615, 0.6537559 , 0.69321674],\n",
       "        ...,\n",
       "        [0.6296582 , 0.6511329 , 0.63554716],\n",
       "        [0.658103  , 0.66492015, 0.6698677 ],\n",
       "        [0.66543835, 0.6691148 , 0.67695796]],\n",
       "\n",
       "       [[0.7464854 , 0.7582501 , 0.79354423],\n",
       "        [0.73778826, 0.7495529 , 0.7848471 ],\n",
       "        [0.75046927, 0.762234  , 0.7975281 ],\n",
       "        ...,\n",
       "        [0.58390504, 0.67900306, 0.51314795],\n",
       "        [0.5856789 , 0.65895516, 0.508397  ],\n",
       "        [0.60614103, 0.67550373, 0.51447433]],\n",
       "\n",
       "       ...,\n",
       "\n",
       "       [[0.5648438 , 0.56520563, 0.52609056],\n",
       "        [0.5414331 , 0.54535466, 0.5139821 ],\n",
       "        [0.54509705, 0.55483776, 0.52839875],\n",
       "        ...,\n",
       "        [0.7482088 , 0.7442872 , 0.72467935],\n",
       "        [0.7954111 , 0.79148954, 0.77188176],\n",
       "        [0.77493083, 0.77100927, 0.75140136]],\n",
       "\n",
       "       [[0.5879347 , 0.57571995, 0.5563372 ],\n",
       "        [0.48694375, 0.48228684, 0.4631692 ],\n",
       "        [0.55410534, 0.55319965, 0.5362065 ],\n",
       "        ...,\n",
       "        [0.7172213 , 0.71329975, 0.69369185],\n",
       "        [0.75146776, 0.7475462 , 0.72793835],\n",
       "        [0.77018976, 0.76626825, 0.74666035]],\n",
       "\n",
       "       [[0.60794944, 0.577542  , 0.5693771 ],\n",
       "        [0.7110524 , 0.687523  , 0.687523  ],\n",
       "        [0.5272547 , 0.5115685 , 0.5108638 ],\n",
       "        ...,\n",
       "        [0.7027678 , 0.6988462 , 0.6792384 ],\n",
       "        [0.78080356, 0.776882  , 0.75727415],\n",
       "        [0.790851  , 0.7869294 , 0.7673216 ]]], dtype=float32)>"
      ]
     },
     "execution_count": 7,
     "metadata": {},
     "output_type": "execute_result"
    }
   ],
   "source": [
    "x_train[0]"
   ]
  },
  {
   "cell_type": "code",
   "execution_count": 8,
   "metadata": {},
   "outputs": [],
   "source": [
    "test2=[]\n",
    "for i in test['file_path']:\n",
    "    x1=preprocess(i)\n",
    "    test2.append(x1)\n",
    "test2=np.array(test2)"
   ]
  },
  {
   "cell_type": "code",
   "execution_count": 9,
   "metadata": {},
   "outputs": [],
   "source": [
    "X=np.array(x_train)\n",
    "y=train['Pawpularity']\n",
    "from sklearn.model_selection import train_test_split\n",
    "x_train,x_test,y_train,y_test=train_test_split(X,y,test_size=0.1,random_state=86)"
   ]
  },
  {
   "cell_type": "markdown",
   "metadata": {
    "jp-MarkdownHeadingCollapsed": true,
    "tags": []
   },
   "source": [
    "## Load pretrained Model"
   ]
  },
  {
   "cell_type": "code",
   "execution_count": 10,
   "metadata": {},
   "outputs": [
    {
     "name": "stdout",
     "output_type": "stream",
     "text": [
      "Downloading data from https://storage.googleapis.com/tensorflow/keras-applications/resnet/resnet50_weights_tf_dim_ordering_tf_kernels_notop.h5\n",
      "94765736/94765736 [==============================] - 47s 0us/step\n"
     ]
    }
   ],
   "source": [
    "def create_model(input_shape, top='flatten'):\n",
    "    if top not in ('flatten', 'avg', 'max'):\n",
    "        raise ValueError('unexpected top layer type: %s' % top)\n",
    "\n",
    "    # connects base model with new \"head\"\n",
    "    BottleneckLayer = {\n",
    "        'flatten': keras.layers.Flatten(),\n",
    "        'avg': keras.layers.GlobalAveragePooling2D(),\n",
    "        'max': keras.layers.GlobalMaxPool2D()\n",
    "    }[top]\n",
    "\n",
    "    base = tf.keras.applications.resnet50.ResNet50(input_shape=input_shape,\n",
    "                             include_top=False, \n",
    "                             weights='imagenet')\n",
    "#tf.keras.applications.resnet50.ResNet50(include_top=True, weights='imagenet', input_tensor=None, input_shape=None, pooling=None, classes=1000)\n",
    "\n",
    "    x = BottleneckLayer(base.output)\n",
    "    x = keras.layers.Dropout(0.5)(x)\n",
    "    x = keras.layers.Dense(1, activation='relu')(x)\n",
    "    model = tf.keras.Model(inputs=base.inputs, outputs=x)\n",
    "    return model\n",
    "input_shape=(128,128,3)\n",
    "model=create_model(input_shape)"
   ]
  },
  {
   "cell_type": "code",
   "execution_count": 11,
   "metadata": {},
   "outputs": [],
   "source": [
    "early_stop = tf.keras.callbacks.EarlyStopping(\n",
    "    monitor='val_rmse',patience=10, verbose=1,mode='min',restore_best_weights=True\n",
    "    )\n",
    "reduce_lr = tf.keras.callbacks.ReduceLROnPlateau(\n",
    "    monitor=\"val_rmse\",\n",
    "    factor=0.2,\n",
    "    patience=3, \n",
    "    min_lr=1e-7,\n",
    "    verbose=1,\n",
    "    mode='min'\n",
    "    )\n",
    "callbacks = [early_stop,reduce_lr]"
   ]
  },
  {
   "cell_type": "code",
   "execution_count": 12,
   "metadata": {},
   "outputs": [],
   "source": [
    "model.compile(loss='mse', optimizer='Adam', metrics=[tf.keras.metrics.RootMeanSquaredError(name=\"rmse\"), \"mae\", \"mape\"])"
   ]
  },
  {
   "cell_type": "code",
   "execution_count": 13,
   "metadata": {},
   "outputs": [],
   "source": [
    "#model.summary()"
   ]
  },
  {
   "cell_type": "markdown",
   "metadata": {
    "jp-MarkdownHeadingCollapsed": true,
    "tags": []
   },
   "source": [
    "## Training"
   ]
  },
  {
   "cell_type": "code",
   "execution_count": 14,
   "metadata": {},
   "outputs": [
    {
     "name": "stdout",
     "output_type": "stream",
     "text": [
      "Epoch 1/50\n"
     ]
    },
    {
     "name": "stderr",
     "output_type": "stream",
     "text": [
      "2022-12-19 20:54:35.898861: W tensorflow/core/platform/profile_utils/cpu_utils.cc:128] Failed to get CPU frequency: 0 Hz\n",
      "2022-12-19 20:54:38.496191: I tensorflow/core/grappler/optimizers/custom_graph_optimizer_registry.cc:114] Plugin optimizer for device_type GPU is enabled.\n"
     ]
    },
    {
     "name": "stdout",
     "output_type": "stream",
     "text": [
      "70/70 [==============================] - ETA: 0s - loss: 500.6302 - rmse: 22.3748 - mae: 16.7571 - mape: 80.7021"
     ]
    },
    {
     "name": "stderr",
     "output_type": "stream",
     "text": [
      "2022-12-19 20:55:32.003616: I tensorflow/core/grappler/optimizers/custom_graph_optimizer_registry.cc:114] Plugin optimizer for device_type GPU is enabled.\n"
     ]
    },
    {
     "name": "stdout",
     "output_type": "stream",
     "text": [
      "70/70 [==============================] - 60s 701ms/step - loss: 500.6302 - rmse: 22.3748 - mae: 16.7571 - mape: 80.7021 - val_loss: 937.4187 - val_rmse: 30.6173 - val_mae: 24.9273 - val_mape: 69.7243 - lr: 0.0010\n",
      "Epoch 2/50\n",
      "70/70 [==============================] - 42s 600ms/step - loss: 435.5217 - rmse: 20.8692 - mae: 15.7330 - mape: 78.6079 - val_loss: 408.3138 - val_rmse: 20.2068 - val_mae: 13.6523 - val_mape: 58.7116 - lr: 0.0010\n",
      "Epoch 3/50\n",
      "70/70 [==============================] - 42s 593ms/step - loss: 403.1821 - rmse: 20.0794 - mae: 15.0883 - mape: 75.5366 - val_loss: 404.7586 - val_rmse: 20.1186 - val_mae: 13.5962 - val_mape: 58.9456 - lr: 0.0010\n",
      "Epoch 4/50\n",
      "70/70 [==============================] - 42s 596ms/step - loss: 337.7234 - rmse: 18.3773 - mae: 13.8713 - mape: 69.0135 - val_loss: 344.4428 - val_rmse: 18.5592 - val_mae: 13.3941 - val_mape: 71.7597 - lr: 0.0010\n",
      "Epoch 5/50\n",
      "70/70 [==============================] - 42s 601ms/step - loss: 249.9959 - rmse: 15.8113 - mae: 11.9694 - mape: 59.1539 - val_loss: 403.1229 - val_rmse: 20.0779 - val_mae: 13.5708 - val_mape: 59.0509 - lr: 0.0010\n",
      "Epoch 6/50\n",
      "70/70 [==============================] - 42s 594ms/step - loss: 165.3339 - rmse: 12.8582 - mae: 9.8367 - mape: 48.4981 - val_loss: 349.6946 - val_rmse: 18.7001 - val_mae: 13.2168 - val_mape: 68.2765 - lr: 0.0010\n",
      "Epoch 7/50\n",
      "70/70 [==============================] - ETA: 0s - loss: 101.9101 - rmse: 10.0951 - mae: 7.7086 - mape: 36.1310\n",
      "Epoch 7: ReduceLROnPlateau reducing learning rate to 0.00020000000949949026.\n",
      "70/70 [==============================] - 42s 600ms/step - loss: 101.9101 - rmse: 10.0951 - mae: 7.7086 - mape: 36.1310 - val_loss: 351.5493 - val_rmse: 18.7496 - val_mae: 14.3989 - val_mape: 82.6149 - lr: 0.0010\n",
      "Epoch 8/50\n",
      "70/70 [==============================] - 42s 600ms/step - loss: 58.5821 - rmse: 7.6539 - mae: 5.7243 - mape: 25.3483 - val_loss: 348.4133 - val_rmse: 18.6658 - val_mae: 14.1926 - val_mape: 80.5126 - lr: 2.0000e-04\n",
      "Epoch 9/50\n",
      "70/70 [==============================] - 42s 595ms/step - loss: 26.6815 - rmse: 5.1654 - mae: 3.9451 - mape: 18.1453 - val_loss: 344.9751 - val_rmse: 18.5735 - val_mae: 14.0343 - val_mape: 79.1860 - lr: 2.0000e-04\n",
      "Epoch 10/50\n",
      "70/70 [==============================] - ETA: 0s - loss: 15.7417 - rmse: 3.9676 - mae: 3.0471 - mape: 14.0406\n",
      "Epoch 10: ReduceLROnPlateau reducing learning rate to 4.0000001899898055e-05.\n",
      "70/70 [==============================] - 42s 596ms/step - loss: 15.7417 - rmse: 3.9676 - mae: 3.0471 - mape: 14.0406 - val_loss: 347.9191 - val_rmse: 18.6526 - val_mae: 14.1416 - val_mape: 80.0647 - lr: 2.0000e-04\n",
      "Epoch 11/50\n",
      "70/70 [==============================] - 42s 600ms/step - loss: 10.8962 - rmse: 3.3009 - mae: 2.5441 - mape: 11.7217 - val_loss: 354.6078 - val_rmse: 18.8310 - val_mae: 14.3261 - val_mape: 81.6315 - lr: 4.0000e-05\n",
      "Epoch 12/50\n",
      "70/70 [==============================] - 42s 603ms/step - loss: 9.8487 - rmse: 3.1383 - mae: 2.4102 - mape: 10.9124 - val_loss: 354.2350 - val_rmse: 18.8211 - val_mae: 14.1312 - val_mape: 79.1981 - lr: 4.0000e-05\n",
      "Epoch 13/50\n",
      "70/70 [==============================] - ETA: 0s - loss: 9.5646 - rmse: 3.0927 - mae: 2.3730 - mape: 10.5876\n",
      "Epoch 13: ReduceLROnPlateau reducing learning rate to 8.000000525498762e-06.\n",
      "70/70 [==============================] - 42s 600ms/step - loss: 9.5646 - rmse: 3.0927 - mae: 2.3730 - mape: 10.5876 - val_loss: 353.6360 - val_rmse: 18.8052 - val_mae: 13.9794 - val_mape: 76.9146 - lr: 4.0000e-05\n",
      "Epoch 14/50\n",
      "70/70 [==============================] - ETA: 0s - loss: 8.5568 - rmse: 2.9252 - mae: 2.2499 - mape: 10.2016Restoring model weights from the end of the best epoch: 4.\n",
      "70/70 [==============================] - 42s 605ms/step - loss: 8.5568 - rmse: 2.9252 - mae: 2.2499 - mape: 10.2016 - val_loss: 353.8590 - val_rmse: 18.8111 - val_mae: 13.9536 - val_mape: 75.7502 - lr: 8.0000e-06\n",
      "Epoch 14: early stopping\n"
     ]
    }
   ],
   "source": [
    "history = model.fit(x_train,y_train,epochs=50,batch_size=128,validation_data=(x_test,y_test),callbacks=callbacks)"
   ]
  },
  {
   "cell_type": "code",
   "execution_count": 15,
   "metadata": {},
   "outputs": [
    {
     "data": {
      "text/plain": [
       "<matplotlib.legend.Legend at 0x2c8ec9e20>"
      ]
     },
     "execution_count": 15,
     "metadata": {},
     "output_type": "execute_result"
    },
    {
     "data": {
      "image/png": "[encoded data removed]",
      "text/plain": [
       "<Figure size 640x480 with 1 Axes>"
      ]
     },
     "metadata": {},
     "output_type": "display_data"
    }
   ],
   "source": [
    "plt.figure()\n",
    "plt.plot(history.history[\"rmse\"], label=\"train_rmse\")\n",
    "plt.plot(history.history[\"val_rmse\"], label=\"val_rmse\")\n",
    "#plt.xticks(range(0,60))\n",
    "plt.title(\"RMSE train/validation by Epoch\")\n",
    "plt.xlabel(\"Epoch #\")\n",
    "plt.ylabel(\"RMSE\")\n",
    "plt.legend(loc=\"upper right\")"
   ]
  },
  {
   "cell_type": "markdown",
   "metadata": {
    "jp-MarkdownHeadingCollapsed": true,
    "tags": []
   },
   "source": [
    "## Prediction"
   ]
  },
  {
   "cell_type": "code",
   "execution_count": 16,
   "metadata": {},
   "outputs": [
    {
     "name": "stderr",
     "output_type": "stream",
     "text": [
      "2022-12-19 21:04:42.015536: I tensorflow/core/grappler/optimizers/custom_graph_optimizer_registry.cc:114] Plugin optimizer for device_type GPU is enabled.\n"
     ]
    },
    {
     "name": "stdout",
     "output_type": "stream",
     "text": [
      "1/1 [==============================] - 2s 2s/step\n"
     ]
    }
   ],
   "source": [
    "cnn_pred=model.predict(test2)"
   ]
  },
  {
   "cell_type": "code",
   "execution_count": 17,
   "metadata": {},
   "outputs": [],
   "source": [
    "cnn=pd.DataFrame()\n",
    "cnn['Id']=test['Id']\n",
    "cnn['Pawpularity']=cnn_pred\n",
    "#cnn.to_csv('submission.csv',index=False)"
   ]
  },
  {
   "cell_type": "code",
   "execution_count": 18,
   "metadata": {},
   "outputs": [
    {
     "data": {
      "text/html": [
       "<div>\n",
       "<style scoped>\n",
       "    .dataframe tbody tr th:only-of-type {\n",
       "        vertical-align: middle;\n",
       "    }\n",
       "\n",
       "    .dataframe tbody tr th {\n",
       "        vertical-align: top;\n",
       "    }\n",
       "\n",
       "    .dataframe thead th {\n",
       "        text-align: right;\n",
       "    }\n",
       "</style>\n",
       "<table border=\"1\" class=\"dataframe\">\n",
       "  <thead>\n",
       "    <tr style=\"text-align: right;\">\n",
       "      <th></th>\n",
       "      <th>Id</th>\n",
       "      <th>Pawpularity</th>\n",
       "    </tr>\n",
       "  </thead>\n",
       "  <tbody>\n",
       "    <tr>\n",
       "      <th>0</th>\n",
       "      <td>4128bae22183829d2b5fea10effdb0c3</td>\n",
       "      <td>35.519611</td>\n",
       "    </tr>\n",
       "    <tr>\n",
       "      <th>1</th>\n",
       "      <td>43a2262d7738e3d420d453815151079e</td>\n",
       "      <td>35.420876</td>\n",
       "    </tr>\n",
       "    <tr>\n",
       "      <th>2</th>\n",
       "      <td>4e429cead1848a298432a0acad014c9d</td>\n",
       "      <td>35.538521</td>\n",
       "    </tr>\n",
       "    <tr>\n",
       "      <th>3</th>\n",
       "      <td>80bc3ccafcc51b66303c2c263aa38486</td>\n",
       "      <td>35.574905</td>\n",
       "    </tr>\n",
       "    <tr>\n",
       "      <th>4</th>\n",
       "      <td>8f49844c382931444e68dffbe20228f4</td>\n",
       "      <td>35.490227</td>\n",
       "    </tr>\n",
       "    <tr>\n",
       "      <th>5</th>\n",
       "      <td>b03f7041962238a7c9d6537e22f9b017</td>\n",
       "      <td>35.540749</td>\n",
       "    </tr>\n",
       "    <tr>\n",
       "      <th>6</th>\n",
       "      <td>c978013571258ed6d4637f6e8cc9d6a3</td>\n",
       "      <td>35.456390</td>\n",
       "    </tr>\n",
       "    <tr>\n",
       "      <th>7</th>\n",
       "      <td>e0de453c1bffc20c22b072b34b54e50f</td>\n",
       "      <td>35.312542</td>\n",
       "    </tr>\n",
       "  </tbody>\n",
       "</table>\n",
       "</div>"
      ],
      "text/plain": [
       "                                 Id  Pawpularity\n",
       "0  4128bae22183829d2b5fea10effdb0c3    35.519611\n",
       "1  43a2262d7738e3d420d453815151079e    35.420876\n",
       "2  4e429cead1848a298432a0acad014c9d    35.538521\n",
       "3  80bc3ccafcc51b66303c2c263aa38486    35.574905\n",
       "4  8f49844c382931444e68dffbe20228f4    35.490227\n",
       "5  b03f7041962238a7c9d6537e22f9b017    35.540749\n",
       "6  c978013571258ed6d4637f6e8cc9d6a3    35.456390\n",
       "7  e0de453c1bffc20c22b072b34b54e50f    35.312542"
      ]
     },
     "execution_count": 18,
     "metadata": {},
     "output_type": "execute_result"
    }
   ],
   "source": [
    "cnn"
   ]
  },
  {
   "cell_type": "code",
   "execution_count": null,
   "metadata": {},
   "outputs": [],
   "source": []
  }
 ],
 "metadata": {
  "kernelspec": {
   "display_name": "Python 3 (ipykernel)",
   "language": "python",
   "name": "python3"
  },
  "language_info": {
   "codemirror_mode": {
    "name": "ipython",
    "version": 3
   },
   "file_extension": ".py",
   "mimetype": "text/x-python",
   "name": "python",
   "nbconvert_exporter": "python",
   "pygments_lexer": "ipython3",
   "version": "3.9.13"
  },
  "vscode": {
   "interpreter": {
    "hash": "69d679f095261404d942377e6066470fb1858ca5c2ea66af4a0005208a92e6cf"
   }
  }
 },
 "nbformat": 4,
 "nbformat_minor": 4
}
